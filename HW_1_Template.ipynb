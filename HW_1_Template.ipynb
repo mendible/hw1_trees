{
 "cells": [
  {
   "cell_type": "markdown",
   "id": "174ee936",
   "metadata": {},
   "source": [
    "This is a fake homework starter code for decision trees!"
   ]
  },
  {
   "cell_type": "code",
   "execution_count": 1,
   "id": "41afec38",
   "metadata": {},
   "outputs": [],
   "source": [
    "import numpy as np\n",
    "import pandas as pd"
   ]
  },
  {
   "cell_type": "code",
   "execution_count": 4,
   "id": "e5799aa6",
   "metadata": {},
   "outputs": [
    {
     "data": {
      "text/html": [
       "<div>\n",
       "<style scoped>\n",
       "    .dataframe tbody tr th:only-of-type {\n",
       "        vertical-align: middle;\n",
       "    }\n",
       "\n",
       "    .dataframe tbody tr th {\n",
       "        vertical-align: top;\n",
       "    }\n",
       "\n",
       "    .dataframe thead th {\n",
       "        text-align: right;\n",
       "    }\n",
       "</style>\n",
       "<table border=\"1\" class=\"dataframe\">\n",
       "  <thead>\n",
       "    <tr style=\"text-align: right;\">\n",
       "      <th></th>\n",
       "      <th>license_issue_date</th>\n",
       "      <th>license_number</th>\n",
       "      <th>animal_s_name</th>\n",
       "      <th>species</th>\n",
       "      <th>primary_breed</th>\n",
       "      <th>secondary_breed</th>\n",
       "      <th>zip_code</th>\n",
       "    </tr>\n",
       "  </thead>\n",
       "  <tbody>\n",
       "    <tr>\n",
       "      <th>0</th>\n",
       "      <td>2015-12-18T00:00:00.000</td>\n",
       "      <td>S107948</td>\n",
       "      <td>Zen</td>\n",
       "      <td>Cat</td>\n",
       "      <td>Domestic Longhair</td>\n",
       "      <td>Mix</td>\n",
       "      <td>98117.0</td>\n",
       "    </tr>\n",
       "    <tr>\n",
       "      <th>1</th>\n",
       "      <td>2016-06-14T00:00:00.000</td>\n",
       "      <td>S116503</td>\n",
       "      <td>Misty</td>\n",
       "      <td>Cat</td>\n",
       "      <td>Siberian</td>\n",
       "      <td>NaN</td>\n",
       "      <td>98117.0</td>\n",
       "    </tr>\n",
       "    <tr>\n",
       "      <th>2</th>\n",
       "      <td>2016-08-04T00:00:00.000</td>\n",
       "      <td>S119301</td>\n",
       "      <td>Lyra</td>\n",
       "      <td>Cat</td>\n",
       "      <td>Mix</td>\n",
       "      <td>NaN</td>\n",
       "      <td>98121.0</td>\n",
       "    </tr>\n",
       "    <tr>\n",
       "      <th>3</th>\n",
       "      <td>2019-02-13T00:00:00.000</td>\n",
       "      <td>962273</td>\n",
       "      <td>Veronica</td>\n",
       "      <td>Cat</td>\n",
       "      <td>Domestic Longhair</td>\n",
       "      <td>NaN</td>\n",
       "      <td>98107.0</td>\n",
       "    </tr>\n",
       "    <tr>\n",
       "      <th>4</th>\n",
       "      <td>2019-08-10T00:00:00.000</td>\n",
       "      <td>S133113</td>\n",
       "      <td>Spider</td>\n",
       "      <td>Cat</td>\n",
       "      <td>LaPerm</td>\n",
       "      <td>NaN</td>\n",
       "      <td>98115.0</td>\n",
       "    </tr>\n",
       "  </tbody>\n",
       "</table>\n",
       "</div>"
      ],
      "text/plain": [
       "        license_issue_date license_number animal_s_name species  \\\n",
       "0  2015-12-18T00:00:00.000        S107948           Zen     Cat   \n",
       "1  2016-06-14T00:00:00.000        S116503         Misty     Cat   \n",
       "2  2016-08-04T00:00:00.000        S119301          Lyra     Cat   \n",
       "3  2019-02-13T00:00:00.000         962273      Veronica     Cat   \n",
       "4  2019-08-10T00:00:00.000        S133113        Spider     Cat   \n",
       "\n",
       "       primary_breed secondary_breed  zip_code  \n",
       "0  Domestic Longhair             Mix   98117.0  \n",
       "1           Siberian             NaN   98117.0  \n",
       "2                Mix             NaN   98121.0  \n",
       "3  Domestic Longhair             NaN   98107.0  \n",
       "4             LaPerm             NaN   98115.0  "
      ]
     },
     "execution_count": 4,
     "metadata": {},
     "output_type": "execute_result"
    }
   ],
   "source": [
    "df = pd.read_csv('testdata.csv')\n",
    "df.head() \n",
    " "
   ]
  }
 ],
 "metadata": {
  "kernelspec": {
   "display_name": "Python 3",
   "language": "python",
   "name": "python3"
  },
  "language_info": {
   "codemirror_mode": {
    "name": "ipython",
    "version": 3
   },
   "file_extension": ".py",
   "mimetype": "text/x-python",
   "name": "python",
   "nbconvert_exporter": "python",
   "pygments_lexer": "ipython3",
   "version": "3.8.8"
  }
 },
 "nbformat": 4,
 "nbformat_minor": 5
}
